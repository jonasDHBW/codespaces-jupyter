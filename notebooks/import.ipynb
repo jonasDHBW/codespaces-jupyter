{
 "cells": [
  {
   "cell_type": "markdown",
   "metadata": {},
   "source": [
    "Dictonary"
   ]
  },
  {
   "cell_type": "code",
   "execution_count": 2,
   "metadata": {},
   "outputs": [
    {
     "name": "stdout",
     "output_type": "stream",
     "text": [
      "koeniggsegg\n"
     ]
    }
   ],
   "source": [
    "thisdic = {\n",
    "    \"brand\": \"koeniggsegg\",\n",
    "    \"Model\": \"Jesko\",\n",
    "    \"year\": 2024\n",
    "}\n",
    "\n",
    "print(thisdic[\"brand\"])"
   ]
  },
  {
   "cell_type": "markdown",
   "metadata": {},
   "source": [
    "Speed Problem"
   ]
  },
  {
   "cell_type": "code",
   "execution_count": 9,
   "metadata": {},
   "outputs": [
    {
     "name": "stdout",
     "output_type": "stream",
     "text": [
      "Transactions from yesterday:\n",
      "{'amount': 7, 'date': '12.04.2015'}\n",
      "\n",
      "Umsatz:\n",
      "Total Income: 359.76\n",
      "Total Expenses: 59.760000000000005\n",
      "Net Profit: 300.0\n",
      "Total Transactions: 4\n"
     ]
    }
   ],
   "source": [
    "from datetime import datetime\n",
    "\n",
    "transactions = [\n",
    "    {\"amount\": 2, \"date\": \"13.04.2015\"},\n",
    "    {\"amount\": 5, \"date\": \"13.04.2015\"},\n",
    "    {\"amount\": 10, \"date\": \"13.04.2015\"},\n",
    "    {\"amount\": 7, \"date\": \"12.04.2015\"},\n",
    "]\n",
    "\n",
    "def yesterday(transactions):\n",
    "    yesterday_transactions = [trans for trans in transactions if trans[\"date\"] == \"12.04.2015\"]\n",
    "    return yesterday_transactions\n",
    "\n",
    "def is_valid_date(date_string):\n",
    "    try:\n",
    "        datetime.strptime(date_string, \"%d.%m.%Y\")\n",
    "        return True\n",
    "    except ValueError:\n",
    "        return False\n",
    "\n",
    "def add_transaction(amount, date, transactions):\n",
    "    if is_valid_date(date):\n",
    "        transactions.append({\"amount\": amount, \"date\": date})\n",
    "        print(\"Transaction added successfully.\")\n",
    "    else:\n",
    "        print(\"Invalid date format. Please use the format dd.mm.yyyy.\")\n",
    "\n",
    "# Beispielaufruf der Funktion\n",
    "all_transactions = transactions  # Umbenennung der Variable, damit sie dem Namen in der Funktion entspricht\n",
    "yesterday_transactions = yesterday(all_transactions)\n",
    "\n",
    "# Ausgabe der gefundenen Transaktionen von gestern\n",
    "print(\"Transactions from yesterday:\")\n",
    "for trans in yesterday_transactions:\n",
    "    print(trans)\n",
    "\n",
    "# Beispielaufruf der Umsatzfunktion\n",
    "total_income, total_expenses, net_profit = umsatz(all_transactions)\n",
    "\n",
    "# Ausgabe des Umsatzes\n",
    "print(\"\\nUmsatz:\")\n",
    "print(f\"Total Income: {total_income}\")\n",
    "print(f\"Total Expenses: {total_expenses}\")\n",
    "print(f\"Net Profit: {net_profit}\")\n",
    "print(f\"Total Transactions: {len(transactions)}\")\n",
    "\n",
    "# Beispielaufruf der Funktion zum Hinzufügen neuer Transaktionen\n",
    "add_transaction(8, \"14.04.2015\", all_transactions)\n",
    "\n",
    "# Ausgabe der aktualisierten Transaktionen\n",
    "print(\"\\nUpdated Transactions:\")\n",
    "for trans in all_transactions:\n",
    "    print(trans)\n",
    "\n",
    "\n"
   ]
  }
 ],
 "metadata": {
  "kernelspec": {
   "display_name": "Python 3",
   "language": "python",
   "name": "python3"
  },
  "language_info": {
   "codemirror_mode": {
    "name": "ipython",
    "version": 3
   },
   "file_extension": ".py",
   "mimetype": "text/x-python",
   "name": "python",
   "nbconvert_exporter": "python",
   "pygments_lexer": "ipython3",
   "version": "3.12.0"
  }
 },
 "nbformat": 4,
 "nbformat_minor": 2
}
